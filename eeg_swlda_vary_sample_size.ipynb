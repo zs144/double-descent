{
 "cells": [
  {
   "cell_type": "code",
   "execution_count": 86,
   "metadata": {},
   "outputs": [
    {
     "name": "stdout",
     "output_type": "stream",
     "text": [
      "The autoreload extension is already loaded. To reload it, use:\n",
      "  %reload_ext autoreload\n"
     ]
    }
   ],
   "source": [
    "# Python standard libraries\n",
    "import math\n",
    "\n",
    "# Packages for computation and modelling\n",
    "import numpy as np\n",
    "from sklearn.linear_model import LogisticRegression\n",
    "from sklearn.metrics import log_loss\n",
    "\n",
    "# Packages for visualization\n",
    "import matplotlib.pyplot as plt\n",
    "import seaborn as sns\n",
    "\n",
    "# Self-defined packages\n",
    "import utils\n",
    "\n",
    "# Magic command to reload packages whenever we run any later cells\n",
    "%load_ext autoreload\n",
    "%autoreload 2"
   ]
  },
  {
   "cell_type": "code",
   "execution_count": 77,
   "metadata": {},
   "outputs": [],
   "source": [
    "BOARD = [[\"A\",    \"B\",  \"C\",   \"D\",    \"E\",    \"F\",     \"G\",    \"H\"    ],\n",
    "         [\"I\",    \"J\",  \"K\",   \"L\",    \"M\",    \"N\",     \"O\",    \"P\"    ],\n",
    "         [\"Q\",    \"R\",  \"S\",   \"T\",    \"U\",    \"V\",     \"W\",    \"X\"    ],\n",
    "         [\"Y\",    \"Z\",  \"Sp\",  \"1\",    \"2\",    \"3\",     \"4\",    \"5\"    ],\n",
    "         [\"6\",    \"7\",  \"8\",   \"9\",    \"0\",    \"Prd\",   \"Ret\",  \"Bs\"   ],\n",
    "         [\"?\",    \",\",  \";\",   \"\\\\\",   \"/\",    \"+\",     \"-\",    \"Alt\"  ],\n",
    "         [\"Ctrl\", \"=\",  \"Del\", \"Home\", \"UpAw\", \"End\",   \"PgUp\", \"Shft\" ],\n",
    "         [\"Save\", \"'\",  \"F2\",  \"LfAw\", \"DnAw\", \"RtAw\",  \"PgDn\", \"Pause\"],\n",
    "         [\"Caps\", \"F5\", \"Tab\", \"EC\",   \"Esc\",  \"email\", \"!\",    \"Sleep\"]]\n",
    "BOARD  = np.array(BOARD)\n",
    "N_ROWS = BOARD.shape[0]  # number of rows\n",
    "N_COLS = BOARD.shape[1]  # number of columns\n",
    "M = N_ROWS * N_COLS      # the number of chars on the board"
   ]
  },
  {
   "cell_type": "code",
   "execution_count": 78,
   "metadata": {},
   "outputs": [],
   "source": [
    "paradigm       = 'RC'  # display paradigm ('RC', 'CB', or 'RD')\n",
    "NUM_TIMESTAMPS = 195   # number of timestamps in each window to record signals\n",
    "EPOCH_SIZE     = 15    # required number of features in every epoch\n",
    "CORE_CHANNELS  = ('EEG_Fz', 'EEG_Cz',  'EEG_P3',  'EEG_Pz',\n",
    "                  'EEG_P4', 'EEG_PO7', 'EEG_PO8', 'EEG_Oz')\n",
    "NUM_CORE_CHANNELS  = len(CORE_CHANNELS)  # number of core eletrodes\n",
    "NUM_TRAIN_WORDS = 5 # number of training words for one participant\n",
    "NUM_TEST_WORDS  = 5 # number of testing words for one participant\n",
    "\n",
    "obj = 1 # the index of experiment object (participant)\n",
    "obj = str(obj) if obj >= 10 else '0'+str(obj)\n",
    "directory = '/Users/zionsheng/Desktop/Duke/Research/P300-BCI/BCI_data/EDFData-StudyA'\n",
    "obj_directory = directory + f'/A{obj}/SE001'"
   ]
  },
  {
   "cell_type": "code",
   "execution_count": 11,
   "metadata": {},
   "outputs": [],
   "source": [
    "train_features,train_response = utils.load_data(dir=obj_directory,\n",
    "                                                obj=obj,\n",
    "                                                num_timestamps=NUM_TIMESTAMPS,\n",
    "                                                epoch_size=EPOCH_SIZE,\n",
    "                                                num_channels=NUM_CORE_CHANNELS,\n",
    "                                                type=paradigm,\n",
    "                                                mode='train',\n",
    "                                                num_words=NUM_TRAIN_WORDS)"
   ]
  },
  {
   "cell_type": "code",
   "execution_count": 12,
   "metadata": {},
   "outputs": [],
   "source": [
    "test_features,test_response   = utils.load_data(dir=obj_directory,\n",
    "                                                obj=obj,\n",
    "                                                num_timestamps=NUM_TIMESTAMPS,\n",
    "                                                epoch_size=EPOCH_SIZE,\n",
    "                                                num_channels=NUM_CORE_CHANNELS,\n",
    "                                                type=paradigm,\n",
    "                                                mode='test',\n",
    "                                                num_words=NUM_TEST_WORDS)"
   ]
  },
  {
   "cell_type": "code",
   "execution_count": 13,
   "metadata": {},
   "outputs": [
    {
     "data": {
      "text/plain": [
       "(4284, 120)"
      ]
     },
     "execution_count": 13,
     "metadata": {},
     "output_type": "execute_result"
    }
   ],
   "source": [
    "train_features.shape"
   ]
  },
  {
   "cell_type": "code",
   "execution_count": 79,
   "metadata": {},
   "outputs": [
    {
     "name": "stdout",
     "output_type": "stream",
     "text": [
      "We set 176 candidates for sample size (n).\n"
     ]
    }
   ],
   "source": [
    "d = 120\n",
    "sim = 20\n",
    "small_n    = np.arange(50, 115, 2)\n",
    "around     = np.arange(115, 124, 1)\n",
    "large_n    = np.arange(124, 200, 2)\n",
    "larger_n   = np.arange(200, 300, 5)\n",
    "largest_n  = np.arange(500, train_features.shape[0], 50)\n",
    "n_vals = np.concatenate([small_n, around, large_n, larger_n, largest_n])\n",
    "M = n_vals.shape[0]\n",
    "print(f'We set {M} candidates for sample size (n).')"
   ]
  },
  {
   "cell_type": "code",
   "execution_count": 91,
   "metadata": {},
   "outputs": [],
   "source": [
    "def run_simulation(train_features, train_response, test_features, test_response,\n",
    "                   n_vals, num_sim):\n",
    "    M = n_vals.shape[0]\n",
    "    train_mse = np.zeros((M, num_sim))\n",
    "    test_mse  = np.zeros((M, num_sim))\n",
    "\n",
    "    for i in range(M):\n",
    "        for j in range(num_sim):\n",
    "            n = n_vals[i]\n",
    "            indices = np.random.choice(train_features.shape[0], n, replace=False)\n",
    "            sub_train_features = train_features[indices, ]\n",
    "            sub_train_response = train_response[indices, ]\n",
    "            clf = LogisticRegression(penalty=None)\n",
    "            clf.fit(sub_train_features, sub_train_response)\n",
    "            train_pred = clf.predict(train_features)\n",
    "            test_pred  = clf.predict(test_features)\n",
    "            train_mse[i,j] = log_loss(train_response, train_pred)\n",
    "            test_mse[i,j]  = log_loss(test_response, test_pred)\n",
    "\n",
    "    return train_mse, test_mse"
   ]
  },
  {
   "cell_type": "code",
   "execution_count": null,
   "metadata": {},
   "outputs": [],
   "source": [
    "train_mse, test_mse = run_simulation(train_features, train_response,\n",
    "                                     test_features, test_response,\n",
    "                                     n_vals, sim)"
   ]
  },
  {
   "cell_type": "code",
   "execution_count": null,
   "metadata": {},
   "outputs": [],
   "source": [
    "train_mse"
   ]
  },
  {
   "cell_type": "code",
   "execution_count": null,
   "metadata": {},
   "outputs": [],
   "source": [
    "avgs_train_loss = np.mean(train_mse, 1)\n",
    "avgs_test_loss  = np.mean(test_mse, 1)\n",
    "\n",
    "plt.title(\"Test Risk vs Sample Size (D=120)\")\n",
    "plt.xlabel(\"# Training Samples\")\n",
    "plt.ylabel(\"MSE\")\n",
    "plt.ylim(0, 13)\n",
    "plt.xlim(0, 600)\n",
    "plt.plot(n_vals, avgs_test_loss,  lw=2, color='blue', label='test loss')\n",
    "plt.plot(n_vals, avgs_train_loss, lw=2, color='red', label='train loss')\n",
    "plt.axvline(x=d, color='black', ls='--')\n",
    "plt.legend(loc=\"best\")\n",
    "plt.show()"
   ]
  },
  {
   "cell_type": "code",
   "execution_count": null,
   "metadata": {},
   "outputs": [],
   "source": []
  }
 ],
 "metadata": {
  "kernelspec": {
   "display_name": "base",
   "language": "python",
   "name": "python3"
  },
  "language_info": {
   "codemirror_mode": {
    "name": "ipython",
    "version": 3
   },
   "file_extension": ".py",
   "mimetype": "text/x-python",
   "name": "python",
   "nbconvert_exporter": "python",
   "pygments_lexer": "ipython3",
   "version": "3.11.5"
  }
 },
 "nbformat": 4,
 "nbformat_minor": 2
}
